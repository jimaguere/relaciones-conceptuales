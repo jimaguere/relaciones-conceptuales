{
 "cells": [
  {
   "cell_type": "code",
   "execution_count": 1,
   "metadata": {},
   "outputs": [],
   "source": [
    "#https://towardsdatascience.com/binary-classifier-evaluation-made-easy-with-handyspark-3b1e69c12b4f\n",
    "#referencia https://medium.com/towards-artificial-intelligence/multi-class-text-classification-using-pyspark-mllib-doc2vec-dbfcee5b39f2\n",
    "#https://swan-gallery.web.cern.ch/notebooks/apache_spark1/ML_Spark_MLlib.html\n",
    "import findspark\n",
    "findspark.init() \n",
    "from pyspark.sql import SparkSession\n",
    "import os\n",
    "\n",
    "\n",
    "MAX_MEMORY = \"8g\"\n",
    "spark = SparkSession.builder \\\n",
    "                    .master(\"local\") \\\n",
    "                    .appName('multi_class_text_classifiter')\\\n",
    "                    .config(\"spark.executor.memory\", MAX_MEMORY) \\\n",
    "                    .config(\"spark.driver.memory\", MAX_MEMORY) \\\n",
    "                    .config(\"spark.jars\", \"D:\\\\ML_text\\\\Servicios_web\\\\driverdb\\\\postgresql-42.2.5.jre6.jar\") \\\n",
    "                    .getOrCreate()\n",
    "\n",
    "\n",
    "#https://docs.anaconda.com/anaconda-scale/howto/spark-basic/"
   ]
  },
  {
   "cell_type": "code",
   "execution_count": 2,
   "metadata": {},
   "outputs": [
    {
     "name": "stdout",
     "output_type": "stream",
     "text": [
      "root\n",
      " |-- id_documento: long (nullable = true)\n",
      " |-- v0: double (nullable = true)\n",
      " |-- v1: double (nullable = true)\n",
      " |-- v2: double (nullable = true)\n",
      " |-- v3: double (nullable = true)\n",
      " |-- v4: double (nullable = true)\n",
      " |-- v5: double (nullable = true)\n",
      " |-- v6: double (nullable = true)\n",
      " |-- v7: double (nullable = true)\n",
      " |-- v8: double (nullable = true)\n",
      " |-- v9: double (nullable = true)\n",
      " |-- v10: double (nullable = true)\n",
      " |-- v11: double (nullable = true)\n",
      " |-- v12: double (nullable = true)\n",
      " |-- v13: double (nullable = true)\n",
      " |-- v14: double (nullable = true)\n",
      " |-- v15: double (nullable = true)\n",
      " |-- v16: double (nullable = true)\n",
      " |-- v17: double (nullable = true)\n",
      " |-- v18: double (nullable = true)\n",
      " |-- v19: double (nullable = true)\n",
      " |-- grupo: integer (nullable = true)\n",
      "\n"
     ]
    }
   ],
   "source": [
    "df_spark  = spark.read \\\n",
    "    .format(\"jdbc\") \\\n",
    "    .option(\"url\", \"jdbc:postgresql://localhost:5433/bd_biblioteca\") \\\n",
    "    .option(\"dbtable\", \"documentos_estructurados\") \\\n",
    "    .option(\"user\", \"postgres\") \\\n",
    "    .option(\"password\", \"postgres1\") \\\n",
    "    .option(\"driver\", \"org.postgresql.Driver\") \\\n",
    "    .load()\n",
    "\n",
    "df_spark.printSchema()"
   ]
  },
  {
   "cell_type": "code",
   "execution_count": 3,
   "metadata": {},
   "outputs": [
    {
     "data": {
      "text/plain": [
       "8076"
      ]
     },
     "execution_count": 3,
     "metadata": {},
     "output_type": "execute_result"
    }
   ],
   "source": [
    "df_spark.count()"
   ]
  },
  {
   "cell_type": "code",
   "execution_count": 4,
   "metadata": {},
   "outputs": [
    {
     "name": "stdout",
     "output_type": "stream",
     "text": [
      "root\n",
      " |-- v0: double (nullable = true)\n",
      " |-- v1: double (nullable = true)\n",
      " |-- v2: double (nullable = true)\n",
      " |-- v3: double (nullable = true)\n",
      " |-- v4: double (nullable = true)\n",
      " |-- v5: double (nullable = true)\n",
      " |-- v6: double (nullable = true)\n",
      " |-- v7: double (nullable = true)\n",
      " |-- v8: double (nullable = true)\n",
      " |-- v9: double (nullable = true)\n",
      " |-- v10: double (nullable = true)\n",
      " |-- v11: double (nullable = true)\n",
      " |-- v12: double (nullable = true)\n",
      " |-- v13: double (nullable = true)\n",
      " |-- v14: double (nullable = true)\n",
      " |-- v15: double (nullable = true)\n",
      " |-- v16: double (nullable = true)\n",
      " |-- v17: double (nullable = true)\n",
      " |-- v18: double (nullable = true)\n",
      " |-- v19: double (nullable = true)\n",
      " |-- grupo: integer (nullable = true)\n",
      "\n"
     ]
    }
   ],
   "source": [
    "df_spark=df_spark.drop('id_documento')\n",
    "df_spark.printSchema()"
   ]
  },
  {
   "cell_type": "code",
   "execution_count": 5,
   "metadata": {},
   "outputs": [
    {
     "name": "stdout",
     "output_type": "stream",
     "text": [
      "+--------------------+-----+\n",
      "|            features|label|\n",
      "+--------------------+-----+\n",
      "|[-0.114150494,-0....|   14|\n",
      "|[-1.4007652,-0.75...|   11|\n",
      "|[-1.5759983,-1.75...|    0|\n",
      "|[-0.63943255,-0.9...|   12|\n",
      "|[0.32119328,0.208...|   27|\n",
      "+--------------------+-----+\n",
      "only showing top 5 rows\n",
      "\n"
     ]
    }
   ],
   "source": [
    "from pyspark.ml.linalg import Vectors\n",
    "from pyspark.ml import Pipeline\n",
    "from pyspark.ml.feature import IndexToString,StringIndexer, VectorIndexer\n",
    "from pyspark.ml.tuning import CrossValidator, ParamGridBuilder\n",
    "from pyspark.ml.evaluation import MulticlassClassificationEvaluator\n",
    "\n",
    "def transData(data):\n",
    "    return data.rdd.map(lambda r: [Vectors.dense(r[:-1]),r[-1]]).toDF(['features','label'])\n",
    "transformed = transData(df_spark)\n",
    "transformed.show(5)"
   ]
  },
  {
   "cell_type": "code",
   "execution_count": 1,
   "metadata": {},
   "outputs": [
    {
     "ename": "NameError",
     "evalue": "name 'StringIndexer' is not defined",
     "output_type": "error",
     "traceback": [
      "\u001b[1;31m---------------------------------------------------------------------------\u001b[0m",
      "\u001b[1;31mNameError\u001b[0m                                 Traceback (most recent call last)",
      "\u001b[1;32m<ipython-input-1-b9609e4215a4>\u001b[0m in \u001b[0;36m<module>\u001b[1;34m\u001b[0m\n\u001b[0;32m      1\u001b[0m \u001b[1;31m# Index labels, adding metadata to the label column\u001b[0m\u001b[1;33m\u001b[0m\u001b[1;33m\u001b[0m\u001b[1;33m\u001b[0m\u001b[0m\n\u001b[1;32m----> 2\u001b[1;33m labelIndexer = StringIndexer(inputCol='label',\n\u001b[0m\u001b[0;32m      3\u001b[0m                              outputCol='indexedLabel').fit(transformed)\n\u001b[0;32m      4\u001b[0m \u001b[0mlabelIndexer\u001b[0m\u001b[1;33m.\u001b[0m\u001b[0mtransform\u001b[0m\u001b[1;33m(\u001b[0m\u001b[0mtransformed\u001b[0m\u001b[1;33m)\u001b[0m\u001b[1;33m.\u001b[0m\u001b[0mshow\u001b[0m\u001b[1;33m(\u001b[0m\u001b[1;36m5\u001b[0m\u001b[1;33m,\u001b[0m \u001b[1;32mTrue\u001b[0m\u001b[1;33m)\u001b[0m\u001b[1;33m\u001b[0m\u001b[1;33m\u001b[0m\u001b[0m\n\u001b[0;32m      5\u001b[0m \u001b[1;33m\u001b[0m\u001b[0m\n",
      "\u001b[1;31mNameError\u001b[0m: name 'StringIndexer' is not defined"
     ]
    }
   ],
   "source": [
    "# Index labels, adding metadata to the label column\n",
    "labelIndexer = StringIndexer(inputCol='label',\n",
    "                             outputCol='indexedLabel').fit(transformed)\n",
    "labelIndexer.transform(transformed).show(5, True)\n",
    "\n",
    "# Identifique automáticamente características categóricas e indexelas.\n",
    "# Establezca maxCategories para que las entidades con> 4 valores distintos se traten como continuas.\n",
    "featureIndexer =VectorIndexer(inputCol=\"features\", \\\n",
    "                                  outputCol=\"indexedFeatures\", \\\n",
    "                                  maxCategories=4).fit(transformed)\n",
    "featureIndexer.transform(transformed).show(5, True)\n",
    "\n",
    "\n",
    "(trainingData, testData) = transformed.randomSplit([0.7, 0.3])\n",
    "trainingData.show(5)"
   ]
  },
  {
   "cell_type": "markdown",
   "metadata": {},
   "source": [
    "<b>Arbol</b>"
   ]
  },
  {
   "cell_type": "code",
   "execution_count": 7,
   "metadata": {},
   "outputs": [],
   "source": [
    "from pyspark.ml.classification import DecisionTreeClassifier\n",
    "\n",
    "# Entrenar un modelo DecisionTree\n",
    "dTree = DecisionTreeClassifier(labelCol='indexedLabel', featuresCol='indexedFeatures',maxDepth = 20,minInstancesPerNode\n",
    "                              =5,impurity='entropy')\n",
    "# Convert indexed labels back to original labels.\n",
    "labelConverter = IndexToString(inputCol=\"prediction\", outputCol=\"predictedLabel\",\n",
    "                               labels=labelIndexer.labels)\n",
    "\n",
    "# Canalizar el modelo mediante la tubería\n",
    "pipeline = Pipeline(stages=[labelIndexer, featureIndexer, dTree,labelConverter])\n",
    "\n",
    "# Train model.  This also runs the indexers.\n",
    "arbol = pipeline.fit(trainingData)\n"
   ]
  },
  {
   "cell_type": "markdown",
   "metadata": {},
   "source": [
    "<b>RandomForest</b>"
   ]
  },
  {
   "cell_type": "code",
   "execution_count": 8,
   "metadata": {},
   "outputs": [],
   "source": [
    "from pyspark.ml.classification import RandomForestClassifier\n",
    "rf = RandomForestClassifier(labelCol=\"indexedLabel\", featuresCol=\"indexedFeatures\", numTrees=500,maxDepth = 10,\n",
    "                       minInstancesPerNode=5,impurity='gini'  )\n",
    "labelConverter = IndexToString(inputCol=\"prediction\", outputCol=\"predictedLabel\",\n",
    "                               labels=labelIndexer.labels)\n",
    "\n",
    "# Chain indexers and tree in a Pipeline\n",
    "pipeline = Pipeline(stages=[labelIndexer, featureIndexer, rf,labelConverter])\n",
    "\n",
    "# Train model.  This also runs the indexers.\n",
    "randomforest = pipeline.fit(trainingData)\n",
    "\n",
    "\n"
   ]
  },
  {
   "cell_type": "markdown",
   "metadata": {},
   "source": [
    "<b>Naive Bayes</b>"
   ]
  },
  {
   "cell_type": "code",
   "execution_count": 9,
   "metadata": {},
   "outputs": [],
   "source": [
    "from pyspark.ml.classification import NaiveBayes\n",
    "nb = NaiveBayes(featuresCol='indexedFeatures', labelCol='indexedLabel')\n",
    "\n",
    "labelConverter = IndexToString(inputCol=\"prediction\", outputCol=\"predictedLabel\",\n",
    "                               labels=labelIndexer.labels)\n",
    "\n",
    "# Chain indexers and tree in a Pipeline\n",
    "pipeline = Pipeline(stages=[labelIndexer, featureIndexer, nb,labelConverter])\n",
    "\n",
    "# Train model.  This also runs the indexers.\n",
    "#naivebayes = pipeline.fit(trainingData)\n"
   ]
  },
  {
   "cell_type": "markdown",
   "metadata": {},
   "source": [
    "<b>LogisticRegression</b>"
   ]
  },
  {
   "cell_type": "code",
   "execution_count": 12,
   "metadata": {},
   "outputs": [],
   "source": [
    "from pyspark.ml.classification import LogisticRegression\n",
    "logr = LogisticRegression(featuresCol='indexedFeatures', labelCol='indexedLabel',regParam=0.001)\n",
    "\n",
    "# Convert indexed labels back to original labels.\n",
    "labelConverter = IndexToString(inputCol=\"prediction\", outputCol=\"predictedLabel\",\n",
    "                               labels=labelIndexer.labels)\n",
    "\n",
    "# Chain indexers and tree in a Pipeline\n",
    "pipeline = Pipeline(stages=[labelIndexer, featureIndexer, logr,labelConverter])\n",
    "\n",
    "logregre = pipeline.fit(trainingData)"
   ]
  },
  {
   "cell_type": "markdown",
   "metadata": {},
   "source": [
    "<b>Train neural network</b>"
   ]
  },
  {
   "cell_type": "code",
   "execution_count": 16,
   "metadata": {},
   "outputs": [],
   "source": [
    "from pyspark.ml.classification import MultilayerPerceptronClassifier\n",
    "# specify layers for the neural network:\n",
    "# input layer of size 11 (features), two intermediate of size 5 and 4\n",
    "# and output of size 7 (classes)\n",
    "layers = [20, 10 , 32]\n",
    "\n",
    "# create the trainer and set its parameters\n",
    "FNN = MultilayerPerceptronClassifier(labelCol=\"indexedLabel\", \\\n",
    "                                     featuresCol=\"indexedFeatures\",\\\n",
    "                                     maxIter=3000, layers=layers, \\\n",
    "                                     blockSize=128, seed=1234)\n",
    "# Convert indexed labels back to original labels.\n",
    "labelConverter = IndexToString(inputCol=\"prediction\", outputCol=\"predictedLabel\",\n",
    "                               labels=labelIndexer.labels)\n",
    "# Chain indexers and forest in a Pipeline\n",
    "from pyspark.ml import Pipeline\n",
    "pipeline = Pipeline(stages=[labelIndexer, featureIndexer, FNN, labelConverter])\n",
    "# train the model\n",
    "# Train model.  This also runs the indexers.\n",
    "model = pipeline.fit(trainingData)"
   ]
  },
  {
   "cell_type": "code",
   "execution_count": 3,
   "metadata": {},
   "outputs": [
    {
     "ename": "NameError",
     "evalue": "name 'testData' is not defined",
     "output_type": "error",
     "traceback": [
      "\u001b[1;31m---------------------------------------------------------------------------\u001b[0m",
      "\u001b[1;31mNameError\u001b[0m                                 Traceback (most recent call last)",
      "\u001b[1;32m<ipython-input-3-48b6dbf68f1a>\u001b[0m in \u001b[0;36m<module>\u001b[1;34m\u001b[0m\n\u001b[0;32m     20\u001b[0m \u001b[1;33m\u001b[0m\u001b[0m\n\u001b[0;32m     21\u001b[0m \u001b[0mmetricas\u001b[0m\u001b[1;33m=\u001b[0m\u001b[1;33m[\u001b[0m\u001b[1;34m\"weightedPrecision\"\u001b[0m\u001b[1;33m,\u001b[0m\u001b[1;34m\"accuracy\"\u001b[0m\u001b[1;33m,\u001b[0m\u001b[1;34m\"f1\"\u001b[0m\u001b[1;33m,\u001b[0m\u001b[1;34m\"weightedRecall\"\u001b[0m\u001b[1;33m]\u001b[0m\u001b[1;33m\u001b[0m\u001b[1;33m\u001b[0m\u001b[0m\n\u001b[1;32m---> 22\u001b[1;33m \u001b[0meval_model\u001b[0m\u001b[1;33m(\u001b[0m\u001b[0mtestData\u001b[0m\u001b[1;33m,\u001b[0m\u001b[0mtrainingData\u001b[0m\u001b[1;33m,\u001b[0m\u001b[0marbol\u001b[0m\u001b[1;33m,\u001b[0m\u001b[0mmetricas\u001b[0m\u001b[1;33m[\u001b[0m\u001b[1;36m2\u001b[0m\u001b[1;33m]\u001b[0m\u001b[1;33m)\u001b[0m\u001b[1;33m\u001b[0m\u001b[1;33m\u001b[0m\u001b[0m\n\u001b[0m\u001b[0;32m     23\u001b[0m \u001b[0meval_model\u001b[0m\u001b[1;33m(\u001b[0m\u001b[0mtestData\u001b[0m\u001b[1;33m,\u001b[0m\u001b[0mtrainingData\u001b[0m\u001b[1;33m,\u001b[0m\u001b[0mrandomforest\u001b[0m\u001b[1;33m,\u001b[0m\u001b[0mmetricas\u001b[0m\u001b[1;33m[\u001b[0m\u001b[1;36m2\u001b[0m\u001b[1;33m]\u001b[0m\u001b[1;33m)\u001b[0m\u001b[1;33m\u001b[0m\u001b[1;33m\u001b[0m\u001b[0m\n\u001b[0;32m     24\u001b[0m \u001b[0meval_model\u001b[0m\u001b[1;33m(\u001b[0m\u001b[0mtestData\u001b[0m\u001b[1;33m,\u001b[0m\u001b[0mtrainingData\u001b[0m\u001b[1;33m,\u001b[0m\u001b[0mlogregre\u001b[0m\u001b[1;33m,\u001b[0m\u001b[0mmetricas\u001b[0m\u001b[1;33m[\u001b[0m\u001b[1;36m2\u001b[0m\u001b[1;33m]\u001b[0m\u001b[1;33m)\u001b[0m\u001b[1;33m\u001b[0m\u001b[1;33m\u001b[0m\u001b[0m\n",
      "\u001b[1;31mNameError\u001b[0m: name 'testData' is not defined"
     ]
    }
   ],
   "source": [
    "from pyspark.ml.evaluation import MulticlassClassificationEvaluator\n",
    "from pyspark.mllib.evaluation import BinaryClassificationMetrics\n",
    "\n",
    "def eval_model(testData,trainingData,model,metric):\n",
    "    predictions_test = model.transform(testData)\n",
    "    predictions_train = model.transform(trainingData)\n",
    "    # Select (prediction, true label) and compute test error\n",
    "    evaluator = MulticlassClassificationEvaluator(\n",
    "    labelCol=\"indexedLabel\", predictionCol=\"prediction\", metricName=metric)\n",
    "    accuracy_test = evaluator.evaluate(predictions_test)\n",
    "    accuracy_train = evaluator.evaluate(predictions_train)\n",
    "    print(metric+\"test = %g\" % (accuracy_test))\n",
    "    print(metric+\"train = %g\" % (accuracy_train))\n",
    "\n",
    "    rfModel = model.stages[-2]\n",
    "    print(rfModel)  # summary only\n",
    "\n",
    "metricas=[\"weightedPrecision\",\"accuracy\",\"f1\",\"weightedRecall\"] \n",
    "eval_model(testData,trainingData,arbol,metricas[2])   \n",
    "eval_model(testData,trainingData,randomforest,metricas[2])  \n",
    "eval_model(testData,trainingData,logregre,metricas[2]) \n",
    "eval_model(testData,trainingData,model,metricas[2])   "
   ]
  },
  {
   "cell_type": "markdown",
   "metadata": {},
   "source": [
    "<b>Tunear Parámatros LogisticRegression</b>"
   ]
  },
  {
   "cell_type": "code",
   "execution_count": 50,
   "metadata": {},
   "outputs": [],
   "source": [
    "from pyspark.ml.tuning import CrossValidator,ParamGridBuilder\n",
    "\n",
    "paramGrid = (ParamGridBuilder()\n",
    "             .addGrid(logr.regParam, [0.001, 0.01, 0.1, 0.5, 1.0, 2.0])\n",
    "             #  .addGrid(lr.regParam, [0.01, 0.1, 0.5])\n",
    "             .addGrid(logr.elasticNetParam, [0.0, 0.25, 0.5, 0.75, 1.0])\n",
    "             #  .addGrid(lr.elasticNetParam, [0.0, 0.5, 1.0])\n",
    "             .addGrid(logr.maxIter, [1, 5, 10, 20, 50])\n",
    "             #  .addGrid(lr.maxIter, [1, 5, 10])\n",
    "             .build())\n",
    "\n",
    "crossval = CrossValidator(estimator=pipeline,\n",
    "                          estimatorParamMaps=paramGrid,\n",
    "                          evaluator=MulticlassClassificationEvaluator(\n",
    "    labelCol=\"indexedLabel\", predictionCol=\"prediction\", metricName=metricas[1]),\n",
    "                          numFolds=3)  # use 3+ folds in practice\n",
    "\n",
    "cvModel = crossval.fit(trainingData)"
   ]
  },
  {
   "cell_type": "code",
   "execution_count": 99,
   "metadata": {},
   "outputs": [
    {
     "name": "stdout",
     "output_type": "stream",
     "text": [
      "accuracytest = 0.9046\n",
      "accuracytrain = 0.929644\n",
      "LogisticRegressionModel: uid=LogisticRegression_9c49e39e8de6, numClasses=32, numFeatures=20\n"
     ]
    },
    {
     "data": {
      "text/plain": [
       "0.001"
      ]
     },
     "execution_count": 99,
     "metadata": {},
     "output_type": "execute_result"
    }
   ],
   "source": [
    "# Get Model Summary Statistics\n",
    "metricas=[\"weightedPrecision\",\"accuracy\",\"f1\",\"weightedRecall\"]\n",
    "lrcvSummary = cvModel.bestModel\n",
    "eval_model(testData,trainingData,lrcvSummary,metricas[1])  \n",
    "import numpy as np\n",
    "cvModel.getEstimatorParamMaps()[ np.argmax(cvModel.avgMetrics) ]\n",
    "lrcvSummary.stages[2].getRegParam()\n"
   ]
  },
  {
   "cell_type": "markdown",
   "metadata": {},
   "source": [
    "<b>Tunear Red neuronal</b>"
   ]
  },
  {
   "cell_type": "code",
   "execution_count": 78,
   "metadata": {},
   "outputs": [],
   "source": [
    "from pyspark.ml.tuning import CrossValidator,ParamGridBuilder\n",
    "\n",
    "paramGrid = (ParamGridBuilder()\n",
    "             .addGrid(FNN.layers,[[20, 1 , 32],[20, 5 , 32]])\n",
    "             .build())\n",
    "\n",
    "crossval = CrossValidator(estimator=pipeline,\n",
    "                          estimatorParamMaps=paramGrid,\n",
    "                          evaluator=MulticlassClassificationEvaluator(\n",
    "    labelCol=\"indexedLabel\", predictionCol=\"prediction\", metricName=metricas[1]),\n",
    "                          numFolds=3)  # use 3+ folds in practice\n",
    "\n",
    "cvModel = crossval.fit(trainingData)"
   ]
  },
  {
   "cell_type": "code",
   "execution_count": 82,
   "metadata": {},
   "outputs": [
    {
     "name": "stdout",
     "output_type": "stream",
     "text": [
      "accuracytest = 0.749484\n",
      "accuracytrain = 0.76455\n",
      "MultilayerPerceptronClassificationModel: uid=MultilayerPerceptronClassifier_7d851b4c2730, numLayers=3, numClasses=32, numFeatures=20\n"
     ]
    },
    {
     "data": {
      "text/plain": [
       "[20, 5, 32]"
      ]
     },
     "execution_count": 82,
     "metadata": {},
     "output_type": "execute_result"
    }
   ],
   "source": [
    "# Get Model Summary Statistics\n",
    "metricas=[\"weightedPrecision\",\"accuracy\",\"f1\",\"weightedRecall\"]\n",
    "lrcvSummary = cvModel.bestModel\n",
    "eval_model(testData,trainingData,lrcvSummary,metricas[1])  \n",
    "import numpy as np\n",
    "cvModel.getEstimatorParamMaps()[ np.argmax(cvModel.avgMetrics) ]\n",
    "lrcvSummary.stages[2].getLayers()"
   ]
  },
  {
   "cell_type": "markdown",
   "metadata": {},
   "source": [
    "<b>Tunear arbol</b>"
   ]
  },
  {
   "cell_type": "code",
   "execution_count": 113,
   "metadata": {},
   "outputs": [],
   "source": [
    "from pyspark.ml.tuning import CrossValidator,ParamGridBuilder\n",
    "\n",
    "paramGrid = (ParamGridBuilder()\n",
    "             .addGrid(dTree.maxDepth,[5,10,20])\n",
    "             .addGrid(dTree.minInstancesPerNode,[5,10,20])\n",
    "             .addGrid(dTree.impurity,['entropy','gini'])\n",
    "             .build())\n",
    "\n",
    "crossval = CrossValidator(estimator=pipeline,\n",
    "                          estimatorParamMaps=paramGrid,\n",
    "                          evaluator=MulticlassClassificationEvaluator(\n",
    "    labelCol=\"indexedLabel\", predictionCol=\"prediction\", metricName=metricas[1]),\n",
    "                          numFolds=3)  # use 3+ folds in practice\n",
    "\n",
    "cvModel = crossval.fit(trainingData)"
   ]
  },
  {
   "cell_type": "code",
   "execution_count": 114,
   "metadata": {},
   "outputs": [
    {
     "name": "stdout",
     "output_type": "stream",
     "text": [
      "accuracytest = 0.666525\n",
      "accuracytrain = 0.857716\n",
      "DecisionTreeClassificationModel: uid=DecisionTreeClassifier_53930b5dd60b, depth=17, numNodes=785, numClasses=32, numFeatures=20\n",
      "20\n",
      "5\n",
      "entropy\n"
     ]
    }
   ],
   "source": [
    "# Get Model Summary Statistics\n",
    "metricas=[\"weightedPrecision\",\"accuracy\",\"f1\",\"weightedRecall\"]\n",
    "lrcvSummary = cvModel.bestModel\n",
    "eval_model(testData,trainingData,lrcvSummary,metricas[1])  \n",
    "import numpy as np\n",
    "cvModel.getEstimatorParamMaps()[ np.argmax(cvModel.avgMetrics) ]\n",
    "print(lrcvSummary.stages[2].getMaxDepth())\n",
    "print(lrcvSummary.stages[2].getMinInstancesPerNode())\n",
    "print(lrcvSummary.stages[2].getImpurity())"
   ]
  },
  {
   "cell_type": "markdown",
   "metadata": {},
   "source": [
    "<b>Tunear RandomForest</b>"
   ]
  },
  {
   "cell_type": "code",
   "execution_count": 14,
   "metadata": {},
   "outputs": [],
   "source": [
    "from pyspark.ml.tuning import CrossValidator,ParamGridBuilder\n",
    "metricas=[\"weightedPrecision\",\"accuracy\",\"f1\",\"weightedRecall\"]\n",
    "paramGrid = (ParamGridBuilder()\n",
    "             .addGrid(rf.maxDepth,[10])\n",
    "             .addGrid(rf.minInstancesPerNode,[5])\n",
    "             .addGrid(rf.impurity,['gini'])\n",
    "             .addGrid(rf.numTrees,[100])\n",
    "             .addGrid(rf.minWeightFractionPerNode,[0.0,0.05])    \n",
    "             .addGrid(rf.minInfoGain,[0.0,0.025])    \n",
    "             .build())\n",
    "\n",
    "crossval = CrossValidator(estimator=pipeline,\n",
    "                          estimatorParamMaps=paramGrid,\n",
    "                          evaluator=MulticlassClassificationEvaluator(\n",
    "    labelCol=\"indexedLabel\", predictionCol=\"prediction\", metricName=metricas[1]),\n",
    "                          numFolds=3)  # use 3+ folds in practice\n",
    "\n",
    "cvModel = crossval.fit(trainingData)"
   ]
  },
  {
   "cell_type": "code",
   "execution_count": 1,
   "metadata": {},
   "outputs": [
    {
     "ename": "NameError",
     "evalue": "name 'cvModel' is not defined",
     "output_type": "error",
     "traceback": [
      "\u001b[1;31m---------------------------------------------------------------------------\u001b[0m",
      "\u001b[1;31mNameError\u001b[0m                                 Traceback (most recent call last)",
      "\u001b[1;32m<ipython-input-1-b7c0730e367c>\u001b[0m in \u001b[0;36m<module>\u001b[1;34m\u001b[0m\n\u001b[0;32m      1\u001b[0m \u001b[1;31m# Get Model Summary Statistics\u001b[0m\u001b[1;33m\u001b[0m\u001b[1;33m\u001b[0m\u001b[1;33m\u001b[0m\u001b[0m\n\u001b[0;32m      2\u001b[0m \u001b[0mmetricas\u001b[0m\u001b[1;33m=\u001b[0m\u001b[1;33m[\u001b[0m\u001b[1;34m\"weightedPrecision\"\u001b[0m\u001b[1;33m,\u001b[0m\u001b[1;34m\"accuracy\"\u001b[0m\u001b[1;33m,\u001b[0m\u001b[1;34m\"f1\"\u001b[0m\u001b[1;33m,\u001b[0m\u001b[1;34m\"weightedRecall\"\u001b[0m\u001b[1;33m]\u001b[0m\u001b[1;33m\u001b[0m\u001b[1;33m\u001b[0m\u001b[0m\n\u001b[1;32m----> 3\u001b[1;33m \u001b[0mlrcvSummary\u001b[0m \u001b[1;33m=\u001b[0m \u001b[0mcvModel\u001b[0m\u001b[1;33m.\u001b[0m\u001b[0mbestModel\u001b[0m\u001b[1;33m\u001b[0m\u001b[1;33m\u001b[0m\u001b[0m\n\u001b[0m\u001b[0;32m      4\u001b[0m \u001b[0meval_model\u001b[0m\u001b[1;33m(\u001b[0m\u001b[0mtestData\u001b[0m\u001b[1;33m,\u001b[0m\u001b[0mtrainingData\u001b[0m\u001b[1;33m,\u001b[0m\u001b[0mlrcvSummary\u001b[0m\u001b[1;33m,\u001b[0m\u001b[0mmetricas\u001b[0m\u001b[1;33m[\u001b[0m\u001b[1;36m1\u001b[0m\u001b[1;33m]\u001b[0m\u001b[1;33m)\u001b[0m\u001b[1;33m\u001b[0m\u001b[1;33m\u001b[0m\u001b[0m\n\u001b[0;32m      5\u001b[0m \u001b[1;32mimport\u001b[0m \u001b[0mnumpy\u001b[0m \u001b[1;32mas\u001b[0m \u001b[0mnp\u001b[0m\u001b[1;33m\u001b[0m\u001b[1;33m\u001b[0m\u001b[0m\n",
      "\u001b[1;31mNameError\u001b[0m: name 'cvModel' is not defined"
     ]
    }
   ],
   "source": [
    "# Get Model Summary Statistics\n",
    "metricas=[\"weightedPrecision\",\"accuracy\",\"f1\",\"weightedRecall\"]\n",
    "lrcvSummary = cvModel.bestModel\n",
    "eval_model(testData,trainingData,lrcvSummary,metricas[1])  \n",
    "import numpy as np\n",
    "cvModel.getEstimatorParamMaps()[ np.argmax(cvModel.avgMetrics) ]\n",
    "print(lrcvSummary.stages[2].getMaxDepth())\n",
    "print(lrcvSummary.stages[2].getMinInstancesPerNode())\n",
    "print(lrcvSummary.stages[2].getImpurity())\n",
    "#print(lrcvSummary.stages[2].getNumTrees())\n",
    "print(lrcvSummary.stages[2].getMinWeightFractionPerNode())\n",
    "print(lrcvSummary.stages[2].getMinInfoGain())"
   ]
  },
  {
   "cell_type": "markdown",
   "metadata": {},
   "source": [
    "<b>XGBOOST</b>"
   ]
  },
  {
   "cell_type": "code",
   "execution_count": 5,
   "metadata": {},
   "outputs": [
    {
     "data": {
      "text/html": [
       "<div>\n",
       "<style scoped>\n",
       "    .dataframe tbody tr th:only-of-type {\n",
       "        vertical-align: middle;\n",
       "    }\n",
       "\n",
       "    .dataframe tbody tr th {\n",
       "        vertical-align: top;\n",
       "    }\n",
       "\n",
       "    .dataframe thead th {\n",
       "        text-align: right;\n",
       "    }\n",
       "</style>\n",
       "<table border=\"1\" class=\"dataframe\">\n",
       "  <thead>\n",
       "    <tr style=\"text-align: right;\">\n",
       "      <th></th>\n",
       "      <th>v0</th>\n",
       "      <th>v1</th>\n",
       "      <th>v2</th>\n",
       "      <th>v3</th>\n",
       "      <th>v4</th>\n",
       "      <th>v5</th>\n",
       "      <th>v6</th>\n",
       "      <th>v7</th>\n",
       "      <th>v8</th>\n",
       "      <th>v9</th>\n",
       "      <th>...</th>\n",
       "      <th>v11</th>\n",
       "      <th>v12</th>\n",
       "      <th>v13</th>\n",
       "      <th>v14</th>\n",
       "      <th>v15</th>\n",
       "      <th>v16</th>\n",
       "      <th>v17</th>\n",
       "      <th>v18</th>\n",
       "      <th>v19</th>\n",
       "      <th>grupo</th>\n",
       "    </tr>\n",
       "  </thead>\n",
       "  <tbody>\n",
       "    <tr>\n",
       "      <th>0</th>\n",
       "      <td>-0.114150</td>\n",
       "      <td>-0.470316</td>\n",
       "      <td>0.066456</td>\n",
       "      <td>0.396812</td>\n",
       "      <td>0.309713</td>\n",
       "      <td>0.309934</td>\n",
       "      <td>0.158930</td>\n",
       "      <td>-0.143244</td>\n",
       "      <td>-0.608666</td>\n",
       "      <td>-0.551357</td>\n",
       "      <td>...</td>\n",
       "      <td>0.613506</td>\n",
       "      <td>-0.290649</td>\n",
       "      <td>1.717429</td>\n",
       "      <td>-0.235506</td>\n",
       "      <td>1.411399</td>\n",
       "      <td>0.050213</td>\n",
       "      <td>-0.414502</td>\n",
       "      <td>0.319806</td>\n",
       "      <td>0.124243</td>\n",
       "      <td>14</td>\n",
       "    </tr>\n",
       "    <tr>\n",
       "      <th>1</th>\n",
       "      <td>-1.400765</td>\n",
       "      <td>-0.759957</td>\n",
       "      <td>0.303883</td>\n",
       "      <td>-0.182143</td>\n",
       "      <td>-0.920323</td>\n",
       "      <td>-2.764483</td>\n",
       "      <td>-0.903704</td>\n",
       "      <td>-0.725012</td>\n",
       "      <td>0.514106</td>\n",
       "      <td>-0.454643</td>\n",
       "      <td>...</td>\n",
       "      <td>1.069958</td>\n",
       "      <td>0.102657</td>\n",
       "      <td>-0.283214</td>\n",
       "      <td>-0.802116</td>\n",
       "      <td>0.984764</td>\n",
       "      <td>-1.758157</td>\n",
       "      <td>0.147815</td>\n",
       "      <td>-0.438175</td>\n",
       "      <td>0.536742</td>\n",
       "      <td>11</td>\n",
       "    </tr>\n",
       "    <tr>\n",
       "      <th>2</th>\n",
       "      <td>-1.575998</td>\n",
       "      <td>-1.754042</td>\n",
       "      <td>0.436943</td>\n",
       "      <td>1.178827</td>\n",
       "      <td>0.035127</td>\n",
       "      <td>0.257678</td>\n",
       "      <td>-0.347408</td>\n",
       "      <td>0.094753</td>\n",
       "      <td>-0.804367</td>\n",
       "      <td>-0.363128</td>\n",
       "      <td>...</td>\n",
       "      <td>1.356802</td>\n",
       "      <td>0.374073</td>\n",
       "      <td>0.879407</td>\n",
       "      <td>-0.144139</td>\n",
       "      <td>0.448543</td>\n",
       "      <td>-0.533359</td>\n",
       "      <td>-1.299521</td>\n",
       "      <td>0.691233</td>\n",
       "      <td>-1.100710</td>\n",
       "      <td>0</td>\n",
       "    </tr>\n",
       "    <tr>\n",
       "      <th>3</th>\n",
       "      <td>-0.639433</td>\n",
       "      <td>-0.981315</td>\n",
       "      <td>0.114390</td>\n",
       "      <td>0.046880</td>\n",
       "      <td>-1.094180</td>\n",
       "      <td>-0.790529</td>\n",
       "      <td>-1.639304</td>\n",
       "      <td>-0.020987</td>\n",
       "      <td>-0.812094</td>\n",
       "      <td>0.240467</td>\n",
       "      <td>...</td>\n",
       "      <td>-0.667463</td>\n",
       "      <td>-0.049547</td>\n",
       "      <td>0.676034</td>\n",
       "      <td>0.229995</td>\n",
       "      <td>-0.032693</td>\n",
       "      <td>0.461650</td>\n",
       "      <td>-0.994536</td>\n",
       "      <td>1.019752</td>\n",
       "      <td>-0.421853</td>\n",
       "      <td>12</td>\n",
       "    </tr>\n",
       "    <tr>\n",
       "      <th>4</th>\n",
       "      <td>0.321193</td>\n",
       "      <td>0.208476</td>\n",
       "      <td>0.438890</td>\n",
       "      <td>0.166335</td>\n",
       "      <td>0.298484</td>\n",
       "      <td>0.167771</td>\n",
       "      <td>-0.281270</td>\n",
       "      <td>-0.841791</td>\n",
       "      <td>0.431160</td>\n",
       "      <td>-0.698627</td>\n",
       "      <td>...</td>\n",
       "      <td>-0.382391</td>\n",
       "      <td>0.452839</td>\n",
       "      <td>1.686943</td>\n",
       "      <td>-0.072980</td>\n",
       "      <td>1.211647</td>\n",
       "      <td>-0.088271</td>\n",
       "      <td>0.297298</td>\n",
       "      <td>0.665430</td>\n",
       "      <td>-0.706013</td>\n",
       "      <td>27</td>\n",
       "    </tr>\n",
       "  </tbody>\n",
       "</table>\n",
       "<p>5 rows × 21 columns</p>\n",
       "</div>"
      ],
      "text/plain": [
       "         v0        v1        v2        v3        v4        v5        v6  \\\n",
       "0 -0.114150 -0.470316  0.066456  0.396812  0.309713  0.309934  0.158930   \n",
       "1 -1.400765 -0.759957  0.303883 -0.182143 -0.920323 -2.764483 -0.903704   \n",
       "2 -1.575998 -1.754042  0.436943  1.178827  0.035127  0.257678 -0.347408   \n",
       "3 -0.639433 -0.981315  0.114390  0.046880 -1.094180 -0.790529 -1.639304   \n",
       "4  0.321193  0.208476  0.438890  0.166335  0.298484  0.167771 -0.281270   \n",
       "\n",
       "         v7        v8        v9  ...       v11       v12       v13       v14  \\\n",
       "0 -0.143244 -0.608666 -0.551357  ...  0.613506 -0.290649  1.717429 -0.235506   \n",
       "1 -0.725012  0.514106 -0.454643  ...  1.069958  0.102657 -0.283214 -0.802116   \n",
       "2  0.094753 -0.804367 -0.363128  ...  1.356802  0.374073  0.879407 -0.144139   \n",
       "3 -0.020987 -0.812094  0.240467  ... -0.667463 -0.049547  0.676034  0.229995   \n",
       "4 -0.841791  0.431160 -0.698627  ... -0.382391  0.452839  1.686943 -0.072980   \n",
       "\n",
       "        v15       v16       v17       v18       v19  grupo  \n",
       "0  1.411399  0.050213 -0.414502  0.319806  0.124243     14  \n",
       "1  0.984764 -1.758157  0.147815 -0.438175  0.536742     11  \n",
       "2  0.448543 -0.533359 -1.299521  0.691233 -1.100710      0  \n",
       "3 -0.032693  0.461650 -0.994536  1.019752 -0.421853     12  \n",
       "4  1.211647 -0.088271  0.297298  0.665430 -0.706013     27  \n",
       "\n",
       "[5 rows x 21 columns]"
      ]
     },
     "execution_count": 5,
     "metadata": {},
     "output_type": "execute_result"
    }
   ],
   "source": [
    "result_pdf = df_spark.select(\"*\").toPandas()\n",
    "result_pdf.head()"
   ]
  },
  {
   "cell_type": "code",
   "execution_count": 7,
   "metadata": {},
   "outputs": [],
   "source": [
    "from sklearn.model_selection import train_test_split\n",
    "\n",
    "Y=result_pdf['grupo']\n",
    "X=result_pdf.drop(labels=['grupo'],axis=1)\n",
    "\n",
    "X_train,X_test,y_train,y_test=train_test_split(X,Y,\n",
    "                                               test_size=0.3,\n",
    "                                               random_state=5)"
   ]
  },
  {
   "cell_type": "code",
   "execution_count": 31,
   "metadata": {},
   "outputs": [
    {
     "data": {
      "text/plain": [
       "XGBClassifier(alpha=0, base_score=0.5, booster='gblinear',\n",
       "       colsample_bylevel=None, colsample_bynode=None,\n",
       "       colsample_bytree=None, eta=0.3, gamma=0, gpu_id=-1,\n",
       "       importance_type='gain', interaction_constraints=None, lambda=0,\n",
       "       learning_rate=0.300000012, max_delta_step=0, max_depth=3,\n",
       "       min_child_weight=1, missing=nan, monotone_constraints=None,\n",
       "       n_estimators=1000, n_job=-1, n_jobs=0, num_parallel_tree=None,\n",
       "       objective='multi:softprob', random_state=0, reg_alpha=0,\n",
       "       reg_lambda=0, scale_pos_weight=None, subsample=None,\n",
       "       tree_method=None, validate_parameters=False, verbosity=None)"
      ]
     },
     "execution_count": 31,
     "metadata": {},
     "output_type": "execute_result"
    }
   ],
   "source": [
    "from xgboost import XGBClassifier\n",
    "\n",
    "params = {'objective':'multisoft:prob',\n",
    "          'colsample_bytree': 0.3,\n",
    "          'learning_rate': 0.1,\n",
    "          'max_depth': 3, 'alpha': 0,\n",
    "          'n_estimators':1000}\n",
    "\n",
    "params={\n",
    " 'objective':'multisoft:prob',\n",
    " 'alpha': 0,\n",
    " 'booster': 'gblinear',\n",
    " 'eta': 0.3,\n",
    " 'gamma': 0,\n",
    " 'lambda': 0,\n",
    " #'learning_rate': 0.1,\n",
    " 'max_delta_step': 0,\n",
    " 'max_depth': 3,\n",
    " 'min_child_weight': 1,\n",
    " 'n_estimators': 1000,\n",
    " 'n_job': -1}\n",
    "\n",
    "modelo = XGBClassifier(**params)\n",
    "modelo.fit(X_train, y_train)"
   ]
  },
  {
   "cell_type": "code",
   "execution_count": 32,
   "metadata": {},
   "outputs": [
    {
     "data": {
      "text/plain": [
       "['./Modelos/XGBOOST.DAT']"
      ]
     },
     "execution_count": 32,
     "metadata": {},
     "output_type": "execute_result"
    }
   ],
   "source": [
    "from joblib import dump, load # Guardar/Cargar modelos\n",
    "dump(modelo,\"./Modelos/XGBOOST.DAT\")"
   ]
  },
  {
   "cell_type": "code",
   "execution_count": 9,
   "metadata": {},
   "outputs": [
    {
     "name": "stdout",
     "output_type": "stream",
     "text": [
      "accuracy test: 0.9063144861741642\n",
      "accuracy train: 0.9566601804351672\n",
      "Balanced_accuracy test: 0.9110869779951697\n",
      "Balanced_accuracy train: 0.9687907278828277\n",
      "F1 test: 0.9111531143153737\n",
      "F1 train: 0.9682926609984461\n"
     ]
    },
    {
     "data": {
      "text/plain": [
       "0.9110869779951697"
      ]
     },
     "execution_count": 9,
     "metadata": {},
     "output_type": "execute_result"
    }
   ],
   "source": [
    "from sklearn.metrics import confusion_matrix\n",
    "from sklearn import metrics\n",
    "from sklearn.metrics import accuracy_score,precision_score,classification_report,balanced_accuracy_score,f1_score\n",
    "\n",
    "\n",
    "\n",
    "\n",
    "def eval_model(testData,trainingData,y_test,y_train,model):\n",
    "    predictions_test = model.predict(testData)\n",
    "    predictions_train = model.predict(trainingData)\n",
    "    # Select (prediction, true label) and compute test error\n",
    "    print(\"accuracy test:\",accuracy_score(y_test, predictions_test))\n",
    "    print(\"accuracy train:\",accuracy_score(y_train, predictions_train))\n",
    "    \n",
    "    print(\"Balanced_accuracy test:\",balanced_accuracy_score(y_test, predictions_test))\n",
    "    print(\"Balanced_accuracy train:\",balanced_accuracy_score(y_train, predictions_train))\n",
    "    \n",
    "    print(\"F1 test:\",f1_score(y_test, predictions_test,average='macro'))\n",
    "    print(\"F1 train:\",f1_score(y_train, predictions_train,average='macro'))\n",
    "    \n",
    "    return (balanced_accuracy_score(y_test, predictions_test))\n",
    "    #return (f1_score(y_test, predictions_test,average='macro'))\n",
    "    \n",
    "eval_model(X_test,X_train,y_test,y_train,modelo)"
   ]
  },
  {
   "cell_type": "code",
   "execution_count": 18,
   "metadata": {},
   "outputs": [],
   "source": [
    "import matplotlib.pyplot as plt\n",
    "import itertools\n",
    "# Función para plot de la matriz de confusión\n",
    "def plot_confusion_matrix(cm, classes, normalize=False, title='Confusion matrix', cmap=plt.cm.Blues):\n",
    "    if normalize:\n",
    "        cm = cm.astype('float') / cm.sum(axis=1)[:, np.newaxis]\n",
    "        print(\"Normalized confusion matrix\")\n",
    "    else:\n",
    "        print('Confusion matrix, without normalization')\n",
    "    #_________________________________________________\n",
    "    plt.imshow(cm, interpolation='nearest', cmap=cmap)\n",
    "    plt.title(title)\n",
    "    plt.colorbar()\n",
    "    tick_marks = np.arange(len(classes))\n",
    "    plt.xticks(tick_marks, classes, rotation=0)\n",
    "    plt.yticks(tick_marks, classes)\n",
    "    #_________________________________________________\n",
    "    fmt = '.5f' if normalize else 'd'\n",
    "    thresh = cm.max() / 2.\n",
    "    for i, j in itertools.product(range(cm.shape[0]), range(cm.shape[1])):\n",
    "        plt.text(j, i, format(cm[i, j], fmt),\n",
    "                 horizontalalignment=\"center\",\n",
    "                 color=\"white\" if cm[i, j] > thresh else \"black\")\n",
    "    #_________________________________________________\n",
    "    plt.tight_layout()\n",
    "    plt.ylabel('True label')\n",
    "    plt.xlabel('Predicted label')"
   ]
  },
  {
   "cell_type": "code",
   "execution_count": 30,
   "metadata": {},
   "outputs": [
    {
     "name": "stdout",
     "output_type": "stream",
     "text": [
      "Confusion matrix, without normalization\n"
     ]
    },
    {
     "data": {
      "image/png": "[encoded data removed]",
      "text/plain": [
       "<Figure size 1440x576 with 2 Axes>"
      ]
     },
     "metadata": {
      "needs_background": "light"
     },
     "output_type": "display_data"
    }
   ],
   "source": [
    "import numpy as np\n",
    "class_names = [i for i in range(32)]\n",
    "\n",
    "cnf_matrix = confusion_matrix(y_test, modelo.predict(X_test)) \n",
    "np.set_printoptions(precision=2)\n",
    "plt.figure(figsize = (20,8))\n",
    "plot_confusion_matrix(cnf_matrix, classes=class_names, normalize = False, title='Matriz de Confusión XGBoost')\n",
    "plt.savefig('./Imagenes/mconf.png')"
   ]
  },
  {
   "cell_type": "markdown",
   "metadata": {},
   "source": [
    "<b>Tunear XGBOOST</b>"
   ]
  },
  {
   "cell_type": "code",
   "execution_count": 100,
   "metadata": {},
   "outputs": [],
   "source": [
    "class Class_Fit(object):\n",
    "    def __init__(self, clf, params=None):\n",
    "        if params:            \n",
    "            self.clf = clf(**params)\n",
    "        else:\n",
    "            self.clf = clf()\n",
    "\n",
    "    def train(self, x_train, y_train):\n",
    "        self.clf.fit(x_train, y_train)\n",
    "\n",
    "    def predict(self, x):\n",
    "        return self.clf.predict(x)\n",
    "    \n",
    "    def grid_search(self, parameters, Kfold):\n",
    "        self.grid = GridSearchCV(estimator = self.clf, param_grid = parameters, cv = Kfold)\n",
    "        \n",
    "    def grid_fit(self, X, Y):\n",
    "        self.grid.fit(X, Y)\n",
    "        \n",
    "    def grid_predict(self, X, Y):\n",
    "        self.predictions = self.grid.predict(X)\n",
    "        print(\"Precision: {:.2f} % \".format(100*metrics.balanced_accuracy_score(Y, self.predictions)))\n",
    "\n",
    "\n",
    "\n",
    "# Este proceso tarda mucho, fue necesario hacerlo en una maquina propia\n",
    "from sklearn.model_selection import GridSearchCV\n",
    "# Se utiliza gridsearch como modelo de selección para determinar los mejores parametros en XGBoost\n",
    "gb = Class_Fit(clf = XGBClassifier)\n",
    "param_grid = {'n_estimators' : [500],'learning_rate':[0.1],'max_depth':[3],'n_job':[-1],'alpha':[0],\n",
    "             'booster':['gblinear','gbtree'],\n",
    "              'eta':[0.3,0.01],'min_child_weight':[1,5],\n",
    "              'gamma':[0,1],'max_delta_step':[0,1],\n",
    "              'lambda':[0,1]\n",
    "             }\n",
    "gb.grid_search(parameters = param_grid, Kfold = 5)\n",
    "gb.grid_fit(X = X_train, Y = y_train)"
   ]
  },
  {
   "cell_type": "code",
   "execution_count": 101,
   "metadata": {},
   "outputs": [
    {
     "name": "stdout",
     "output_type": "stream",
     "text": [
      "Precision: 90.62 % \n"
     ]
    },
    {
     "data": {
      "text/plain": [
       "{'alpha': 0,\n",
       " 'booster': 'gblinear',\n",
       " 'eta': 0.3,\n",
       " 'gamma': 0,\n",
       " 'lambda': 0,\n",
       " 'learning_rate': 0.1,\n",
       " 'max_delta_step': 0,\n",
       " 'max_depth': 3,\n",
       " 'min_child_weight': 1,\n",
       " 'n_estimators': 500,\n",
       " 'n_job': -1}"
      ]
     },
     "execution_count": 101,
     "metadata": {},
     "output_type": "execute_result"
    }
   ],
   "source": [
    "# Muestra los mejores parámetros para el modelo evaluado\n",
    "gb.grid_predict(X_test, y_test)\n",
    "gb.grid.best_params_"
   ]
  },
  {
   "cell_type": "code",
   "execution_count": 33,
   "metadata": {},
   "outputs": [],
   "source": [
    "from sklearn.metrics import confusion_matrix, roc_curve, roc_auc_score, auc\n",
    "from sklearn.metrics import accuracy_score,precision_score, balanced_accuracy_score, recall_score\n",
    "\n",
    "\n",
    "from sklearn.model_selection import StratifiedKFold\n",
    "\n",
    "def validacion_cruzada(x_train,y_train,kfolds,model):\n",
    "    cv = StratifiedKFold(n_splits=kfolds,shuffle=False)\n",
    "    prom=[]\n",
    "    for train,test in cv.split(x_train,y_train):\n",
    "    \n",
    "        modelo=model.fit(x_train.iloc[train],y_train.iloc[train])\n",
    "        prom.append(eval_model(x_train.iloc[test],x_train.iloc[train],y_train.iloc[test],y_train.iloc[train],modelo))\n",
    "\n",
    "    return(prom) "
   ]
  },
  {
   "cell_type": "code",
   "execution_count": 35,
   "metadata": {},
   "outputs": [
    {
     "name": "stdout",
     "output_type": "stream",
     "text": [
      "accuracy test: 0.896358543417367\n",
      "accuracy train: 0.9583431952662722\n",
      "Balanced_accuracy test: 0.8868007528949042\n",
      "Balanced_accuracy train: 0.9701652628622048\n",
      "F1 test: 0.8895836878870262\n",
      "F1 train: 0.9698768552582824\n",
      "accuracy test: 0.8990112994350282\n",
      "accuracy train: 0.9596412556053812\n",
      "Balanced_accuracy test: 0.9051172866024126\n",
      "Balanced_accuracy train: 0.9710505635543492\n",
      "F1 test: 0.8987062262381308\n",
      "F1 train: 0.9708028364593208\n",
      "accuracy test: 0.9055397727272727\n",
      "accuracy train: 0.9564193168433451\n",
      "Balanced_accuracy test: 0.9137427172565595\n",
      "Balanced_accuracy train: 0.9685814099174102\n",
      "F1 test: 0.9131804516046287\n",
      "F1 train: 0.9680852966619162\n",
      "accuracy test: 0.892933618843683\n",
      "accuracy train: 0.9651928504233303\n",
      "Balanced_accuracy test: 0.8937095948100064\n",
      "Balanced_accuracy train: 0.9750649895432982\n",
      "F1 test: 0.8937818095711116\n",
      "F1 train: 0.9746674324130924\n",
      "-------------------------\n"
     ]
    },
    {
     "data": {
      "text/plain": [
       "[0.8895836878870262,\n",
       " 0.8987062262381308,\n",
       " 0.9131804516046287,\n",
       " 0.8937818095711116]"
      ]
     },
     "metadata": {},
     "output_type": "display_data"
    },
    {
     "name": "stdout",
     "output_type": "stream",
     "text": [
      "-------------------------\n",
      "Promedio 0.8988130438252243\n"
     ]
    }
   ],
   "source": [
    "# Se realiza validación cruzada pasando cuantas particiones del conjuto de datos quiere entrenar\n",
    "kflods = 4\n",
    "auc_vec=validacion_cruzada(X_train,y_train, kflods, modelo)\n",
    "\n",
    "print('-------------------------')\n",
    "display(auc_vec)\n",
    "print('-------------------------')\n",
    "print('Promedio', sum(auc_vec)/len(auc_vec)) "
   ]
  },
  {
   "cell_type": "markdown",
   "metadata": {},
   "source": [
    "<b>Regresión Logística</b>"
   ]
  },
  {
   "cell_type": "code",
   "execution_count": 64,
   "metadata": {},
   "outputs": [
    {
     "name": "stderr",
     "output_type": "stream",
     "text": [
      "C:\\Users\\JBARCO\\Anaconda3\\lib\\site-packages\\sklearn\\linear_model\\logistic.py:1300: UserWarning: 'n_jobs' > 1 does not have any effect when 'solver' is set to 'liblinear'. Got 'n_jobs' = 4.\n",
      "  \" = {}.\".format(effective_n_jobs(self.n_jobs)))\n",
      "C:\\Users\\JBARCO\\Anaconda3\\lib\\site-packages\\sklearn\\linear_model\\logistic.py:1300: UserWarning: 'n_jobs' > 1 does not have any effect when 'solver' is set to 'liblinear'. Got 'n_jobs' = 4.\n",
      "  \" = {}.\".format(effective_n_jobs(self.n_jobs)))\n",
      "C:\\Users\\JBARCO\\Anaconda3\\lib\\site-packages\\sklearn\\linear_model\\logistic.py:1300: UserWarning: 'n_jobs' > 1 does not have any effect when 'solver' is set to 'liblinear'. Got 'n_jobs' = 4.\n",
      "  \" = {}.\".format(effective_n_jobs(self.n_jobs)))\n",
      "C:\\Users\\JBARCO\\Anaconda3\\lib\\site-packages\\sklearn\\linear_model\\logistic.py:1300: UserWarning: 'n_jobs' > 1 does not have any effect when 'solver' is set to 'liblinear'. Got 'n_jobs' = 4.\n",
      "  \" = {}.\".format(effective_n_jobs(self.n_jobs)))\n",
      "C:\\Users\\JBARCO\\Anaconda3\\lib\\site-packages\\sklearn\\linear_model\\logistic.py:1300: UserWarning: 'n_jobs' > 1 does not have any effect when 'solver' is set to 'liblinear'. Got 'n_jobs' = 4.\n",
      "  \" = {}.\".format(effective_n_jobs(self.n_jobs)))\n",
      "C:\\Users\\JBARCO\\Anaconda3\\lib\\site-packages\\sklearn\\linear_model\\logistic.py:1300: UserWarning: 'n_jobs' > 1 does not have any effect when 'solver' is set to 'liblinear'. Got 'n_jobs' = 4.\n",
      "  \" = {}.\".format(effective_n_jobs(self.n_jobs)))\n",
      "C:\\Users\\JBARCO\\Anaconda3\\lib\\site-packages\\sklearn\\linear_model\\logistic.py:1300: UserWarning: 'n_jobs' > 1 does not have any effect when 'solver' is set to 'liblinear'. Got 'n_jobs' = 4.\n",
      "  \" = {}.\".format(effective_n_jobs(self.n_jobs)))\n",
      "C:\\Users\\JBARCO\\Anaconda3\\lib\\site-packages\\sklearn\\linear_model\\logistic.py:1300: UserWarning: 'n_jobs' > 1 does not have any effect when 'solver' is set to 'liblinear'. Got 'n_jobs' = 4.\n",
      "  \" = {}.\".format(effective_n_jobs(self.n_jobs)))\n",
      "C:\\Users\\JBARCO\\Anaconda3\\lib\\site-packages\\sklearn\\linear_model\\logistic.py:1300: UserWarning: 'n_jobs' > 1 does not have any effect when 'solver' is set to 'liblinear'. Got 'n_jobs' = 4.\n",
      "  \" = {}.\".format(effective_n_jobs(self.n_jobs)))\n",
      "C:\\Users\\JBARCO\\Anaconda3\\lib\\site-packages\\sklearn\\linear_model\\logistic.py:1300: UserWarning: 'n_jobs' > 1 does not have any effect when 'solver' is set to 'liblinear'. Got 'n_jobs' = 4.\n",
      "  \" = {}.\".format(effective_n_jobs(self.n_jobs)))\n",
      "C:\\Users\\JBARCO\\Anaconda3\\lib\\site-packages\\sklearn\\linear_model\\logistic.py:1300: UserWarning: 'n_jobs' > 1 does not have any effect when 'solver' is set to 'liblinear'. Got 'n_jobs' = 4.\n",
      "  \" = {}.\".format(effective_n_jobs(self.n_jobs)))\n",
      "C:\\Users\\JBARCO\\Anaconda3\\lib\\site-packages\\sklearn\\linear_model\\logistic.py:1300: UserWarning: 'n_jobs' > 1 does not have any effect when 'solver' is set to 'liblinear'. Got 'n_jobs' = 4.\n",
      "  \" = {}.\".format(effective_n_jobs(self.n_jobs)))\n",
      "C:\\Users\\JBARCO\\Anaconda3\\lib\\site-packages\\sklearn\\linear_model\\logistic.py:1300: UserWarning: 'n_jobs' > 1 does not have any effect when 'solver' is set to 'liblinear'. Got 'n_jobs' = 4.\n",
      "  \" = {}.\".format(effective_n_jobs(self.n_jobs)))\n",
      "C:\\Users\\JBARCO\\Anaconda3\\lib\\site-packages\\sklearn\\linear_model\\logistic.py:1300: UserWarning: 'n_jobs' > 1 does not have any effect when 'solver' is set to 'liblinear'. Got 'n_jobs' = 4.\n",
      "  \" = {}.\".format(effective_n_jobs(self.n_jobs)))\n",
      "C:\\Users\\JBARCO\\Anaconda3\\lib\\site-packages\\sklearn\\linear_model\\logistic.py:1300: UserWarning: 'n_jobs' > 1 does not have any effect when 'solver' is set to 'liblinear'. Got 'n_jobs' = 4.\n",
      "  \" = {}.\".format(effective_n_jobs(self.n_jobs)))\n",
      "C:\\Users\\JBARCO\\Anaconda3\\lib\\site-packages\\sklearn\\linear_model\\logistic.py:1300: UserWarning: 'n_jobs' > 1 does not have any effect when 'solver' is set to 'liblinear'. Got 'n_jobs' = 4.\n",
      "  \" = {}.\".format(effective_n_jobs(self.n_jobs)))\n",
      "C:\\Users\\JBARCO\\Anaconda3\\lib\\site-packages\\sklearn\\linear_model\\logistic.py:1300: UserWarning: 'n_jobs' > 1 does not have any effect when 'solver' is set to 'liblinear'. Got 'n_jobs' = 4.\n",
      "  \" = {}.\".format(effective_n_jobs(self.n_jobs)))\n",
      "C:\\Users\\JBARCO\\Anaconda3\\lib\\site-packages\\sklearn\\linear_model\\logistic.py:1300: UserWarning: 'n_jobs' > 1 does not have any effect when 'solver' is set to 'liblinear'. Got 'n_jobs' = 4.\n",
      "  \" = {}.\".format(effective_n_jobs(self.n_jobs)))\n",
      "C:\\Users\\JBARCO\\Anaconda3\\lib\\site-packages\\sklearn\\linear_model\\logistic.py:1300: UserWarning: 'n_jobs' > 1 does not have any effect when 'solver' is set to 'liblinear'. Got 'n_jobs' = 4.\n",
      "  \" = {}.\".format(effective_n_jobs(self.n_jobs)))\n",
      "C:\\Users\\JBARCO\\Anaconda3\\lib\\site-packages\\sklearn\\linear_model\\logistic.py:1300: UserWarning: 'n_jobs' > 1 does not have any effect when 'solver' is set to 'liblinear'. Got 'n_jobs' = 4.\n",
      "  \" = {}.\".format(effective_n_jobs(self.n_jobs)))\n",
      "C:\\Users\\JBARCO\\Anaconda3\\lib\\site-packages\\sklearn\\linear_model\\logistic.py:1300: UserWarning: 'n_jobs' > 1 does not have any effect when 'solver' is set to 'liblinear'. Got 'n_jobs' = 4.\n",
      "  \" = {}.\".format(effective_n_jobs(self.n_jobs)))\n",
      "C:\\Users\\JBARCO\\Anaconda3\\lib\\site-packages\\sklearn\\linear_model\\logistic.py:1300: UserWarning: 'n_jobs' > 1 does not have any effect when 'solver' is set to 'liblinear'. Got 'n_jobs' = 4.\n",
      "  \" = {}.\".format(effective_n_jobs(self.n_jobs)))\n",
      "C:\\Users\\JBARCO\\Anaconda3\\lib\\site-packages\\sklearn\\linear_model\\logistic.py:1300: UserWarning: 'n_jobs' > 1 does not have any effect when 'solver' is set to 'liblinear'. Got 'n_jobs' = 4.\n",
      "  \" = {}.\".format(effective_n_jobs(self.n_jobs)))\n",
      "C:\\Users\\JBARCO\\Anaconda3\\lib\\site-packages\\sklearn\\linear_model\\logistic.py:1300: UserWarning: 'n_jobs' > 1 does not have any effect when 'solver' is set to 'liblinear'. Got 'n_jobs' = 4.\n",
      "  \" = {}.\".format(effective_n_jobs(self.n_jobs)))\n",
      "C:\\Users\\JBARCO\\Anaconda3\\lib\\site-packages\\sklearn\\linear_model\\logistic.py:1300: UserWarning: 'n_jobs' > 1 does not have any effect when 'solver' is set to 'liblinear'. Got 'n_jobs' = 4.\n",
      "  \" = {}.\".format(effective_n_jobs(self.n_jobs)))\n",
      "C:\\Users\\JBARCO\\Anaconda3\\lib\\site-packages\\sklearn\\linear_model\\logistic.py:1300: UserWarning: 'n_jobs' > 1 does not have any effect when 'solver' is set to 'liblinear'. Got 'n_jobs' = 4.\n",
      "  \" = {}.\".format(effective_n_jobs(self.n_jobs)))\n",
      "C:\\Users\\JBARCO\\Anaconda3\\lib\\site-packages\\sklearn\\linear_model\\logistic.py:1300: UserWarning: 'n_jobs' > 1 does not have any effect when 'solver' is set to 'liblinear'. Got 'n_jobs' = 4.\n",
      "  \" = {}.\".format(effective_n_jobs(self.n_jobs)))\n",
      "C:\\Users\\JBARCO\\Anaconda3\\lib\\site-packages\\sklearn\\linear_model\\logistic.py:1300: UserWarning: 'n_jobs' > 1 does not have any effect when 'solver' is set to 'liblinear'. Got 'n_jobs' = 4.\n",
      "  \" = {}.\".format(effective_n_jobs(self.n_jobs)))\n",
      "C:\\Users\\JBARCO\\Anaconda3\\lib\\site-packages\\sklearn\\linear_model\\logistic.py:1300: UserWarning: 'n_jobs' > 1 does not have any effect when 'solver' is set to 'liblinear'. Got 'n_jobs' = 4.\n",
      "  \" = {}.\".format(effective_n_jobs(self.n_jobs)))\n",
      "C:\\Users\\JBARCO\\Anaconda3\\lib\\site-packages\\sklearn\\linear_model\\logistic.py:1300: UserWarning: 'n_jobs' > 1 does not have any effect when 'solver' is set to 'liblinear'. Got 'n_jobs' = 4.\n",
      "  \" = {}.\".format(effective_n_jobs(self.n_jobs)))\n",
      "C:\\Users\\JBARCO\\Anaconda3\\lib\\site-packages\\sklearn\\linear_model\\logistic.py:1300: UserWarning: 'n_jobs' > 1 does not have any effect when 'solver' is set to 'liblinear'. Got 'n_jobs' = 4.\n",
      "  \" = {}.\".format(effective_n_jobs(self.n_jobs)))\n",
      "C:\\Users\\JBARCO\\Anaconda3\\lib\\site-packages\\sklearn\\linear_model\\logistic.py:1300: UserWarning: 'n_jobs' > 1 does not have any effect when 'solver' is set to 'liblinear'. Got 'n_jobs' = 4.\n",
      "  \" = {}.\".format(effective_n_jobs(self.n_jobs)))\n",
      "C:\\Users\\JBARCO\\Anaconda3\\lib\\site-packages\\sklearn\\linear_model\\logistic.py:1300: UserWarning: 'n_jobs' > 1 does not have any effect when 'solver' is set to 'liblinear'. Got 'n_jobs' = 4.\n",
      "  \" = {}.\".format(effective_n_jobs(self.n_jobs)))\n",
      "C:\\Users\\JBARCO\\Anaconda3\\lib\\site-packages\\sklearn\\linear_model\\logistic.py:1300: UserWarning: 'n_jobs' > 1 does not have any effect when 'solver' is set to 'liblinear'. Got 'n_jobs' = 4.\n",
      "  \" = {}.\".format(effective_n_jobs(self.n_jobs)))\n",
      "C:\\Users\\JBARCO\\Anaconda3\\lib\\site-packages\\sklearn\\linear_model\\logistic.py:1300: UserWarning: 'n_jobs' > 1 does not have any effect when 'solver' is set to 'liblinear'. Got 'n_jobs' = 4.\n",
      "  \" = {}.\".format(effective_n_jobs(self.n_jobs)))\n"
     ]
    },
    {
     "name": "stderr",
     "output_type": "stream",
     "text": [
      "C:\\Users\\JBARCO\\Anaconda3\\lib\\site-packages\\sklearn\\linear_model\\logistic.py:1300: UserWarning: 'n_jobs' > 1 does not have any effect when 'solver' is set to 'liblinear'. Got 'n_jobs' = 4.\n",
      "  \" = {}.\".format(effective_n_jobs(self.n_jobs)))\n",
      "C:\\Users\\JBARCO\\Anaconda3\\lib\\site-packages\\sklearn\\linear_model\\logistic.py:1300: UserWarning: 'n_jobs' > 1 does not have any effect when 'solver' is set to 'liblinear'. Got 'n_jobs' = 4.\n",
      "  \" = {}.\".format(effective_n_jobs(self.n_jobs)))\n",
      "C:\\Users\\JBARCO\\Anaconda3\\lib\\site-packages\\sklearn\\linear_model\\logistic.py:1300: UserWarning: 'n_jobs' > 1 does not have any effect when 'solver' is set to 'liblinear'. Got 'n_jobs' = 4.\n",
      "  \" = {}.\".format(effective_n_jobs(self.n_jobs)))\n",
      "C:\\Users\\JBARCO\\Anaconda3\\lib\\site-packages\\sklearn\\linear_model\\logistic.py:1300: UserWarning: 'n_jobs' > 1 does not have any effect when 'solver' is set to 'liblinear'. Got 'n_jobs' = 4.\n",
      "  \" = {}.\".format(effective_n_jobs(self.n_jobs)))\n",
      "C:\\Users\\JBARCO\\Anaconda3\\lib\\site-packages\\sklearn\\linear_model\\logistic.py:1300: UserWarning: 'n_jobs' > 1 does not have any effect when 'solver' is set to 'liblinear'. Got 'n_jobs' = 4.\n",
      "  \" = {}.\".format(effective_n_jobs(self.n_jobs)))\n",
      "C:\\Users\\JBARCO\\Anaconda3\\lib\\site-packages\\sklearn\\linear_model\\logistic.py:1300: UserWarning: 'n_jobs' > 1 does not have any effect when 'solver' is set to 'liblinear'. Got 'n_jobs' = 4.\n",
      "  \" = {}.\".format(effective_n_jobs(self.n_jobs)))\n"
     ]
    }
   ],
   "source": [
    "from sklearn import linear_model # Regresión logistica\n",
    "# Este proceso tarda mucho, fue necesario hacerlo en una maquina propia\n",
    "from sklearn.model_selection import GridSearchCV\n",
    "# Se utiliza gridsearch como modelo de selección para determinar los mejores parametros en XGBoost\n",
    "gb = Class_Fit(clf = linear_model.LogisticRegression)\n",
    "param_grid = {'max_iter' : [10000],'penalty':['l1', 'l2'],\n",
    "              'class_weight':[None,'balanced'],'solver':['liblinear'],\n",
    "              'n_jobs':[-1],'multi_class':['auto', 'ovr']\n",
    "             ,}\n",
    "gb.grid_search(parameters = param_grid, Kfold = 5)\n",
    "gb.grid_fit(X = X_train, Y = y_train)"
   ]
  },
  {
   "cell_type": "code",
   "execution_count": 65,
   "metadata": {},
   "outputs": [
    {
     "name": "stdout",
     "output_type": "stream",
     "text": [
      "Precision: 90.51 % \n"
     ]
    },
    {
     "data": {
      "text/plain": [
       "{'class_weight': 'balanced',\n",
       " 'max_iter': 10000,\n",
       " 'multi_class': 'auto',\n",
       " 'n_jobs': -1,\n",
       " 'penalty': 'l1',\n",
       " 'solver': 'liblinear'}"
      ]
     },
     "execution_count": 65,
     "metadata": {},
     "output_type": "execute_result"
    }
   ],
   "source": [
    "# Muestra los mejores parámetros para el modelo evaluado\n",
    "gb.grid_predict(X_test, y_test)\n",
    "gb.grid.best_params_"
   ]
  },
  {
   "cell_type": "code",
   "execution_count": 68,
   "metadata": {},
   "outputs": [],
   "source": [
    "params={'class_weight': 'balanced',\n",
    " 'max_iter': 100000,\n",
    " 'multi_class': 'auto',\n",
    " 'n_jobs': -1,\n",
    " 'penalty': 'l1',\n",
    " 'solver': 'liblinear'}\n",
    "\n",
    "model_rlog_balanced = linear_model.LogisticRegression(**params)"
   ]
  },
  {
   "cell_type": "code",
   "execution_count": 69,
   "metadata": {},
   "outputs": [
    {
     "name": "stderr",
     "output_type": "stream",
     "text": [
      "C:\\Users\\JBARCO\\Anaconda3\\lib\\site-packages\\sklearn\\linear_model\\logistic.py:1300: UserWarning: 'n_jobs' > 1 does not have any effect when 'solver' is set to 'liblinear'. Got 'n_jobs' = 4.\n",
      "  \" = {}.\".format(effective_n_jobs(self.n_jobs)))\n"
     ]
    },
    {
     "name": "stdout",
     "output_type": "stream",
     "text": [
      "accuracy test: 0.8823529411764706\n",
      "accuracy train: 0.9105325443786982\n",
      "Balanced_accuracy test: 0.8958020428876097\n",
      "Balanced_accuracy train: 0.9277062282323347\n"
     ]
    },
    {
     "name": "stderr",
     "output_type": "stream",
     "text": [
      "C:\\Users\\JBARCO\\Anaconda3\\lib\\site-packages\\sklearn\\linear_model\\logistic.py:1300: UserWarning: 'n_jobs' > 1 does not have any effect when 'solver' is set to 'liblinear'. Got 'n_jobs' = 4.\n",
      "  \" = {}.\".format(effective_n_jobs(self.n_jobs)))\n"
     ]
    },
    {
     "name": "stdout",
     "output_type": "stream",
     "text": [
      "accuracy test: 0.8862994350282486\n",
      "accuracy train: 0.9096058531980175\n",
      "Balanced_accuracy test: 0.9011986435789235\n",
      "Balanced_accuracy train: 0.9253639896791357\n"
     ]
    },
    {
     "name": "stderr",
     "output_type": "stream",
     "text": [
      "C:\\Users\\JBARCO\\Anaconda3\\lib\\site-packages\\sklearn\\linear_model\\logistic.py:1300: UserWarning: 'n_jobs' > 1 does not have any effect when 'solver' is set to 'liblinear'. Got 'n_jobs' = 4.\n",
      "  \" = {}.\".format(effective_n_jobs(self.n_jobs)))\n"
     ]
    },
    {
     "name": "stdout",
     "output_type": "stream",
     "text": [
      "accuracy test: 0.8828125\n",
      "accuracy train: 0.9076560659599529\n",
      "Balanced_accuracy test: 0.8960375229833814\n",
      "Balanced_accuracy train: 0.9237636359497942\n"
     ]
    },
    {
     "name": "stderr",
     "output_type": "stream",
     "text": [
      "C:\\Users\\JBARCO\\Anaconda3\\lib\\site-packages\\sklearn\\linear_model\\logistic.py:1300: UserWarning: 'n_jobs' > 1 does not have any effect when 'solver' is set to 'liblinear'. Got 'n_jobs' = 4.\n",
      "  \" = {}.\".format(effective_n_jobs(self.n_jobs)))\n"
     ]
    },
    {
     "name": "stdout",
     "output_type": "stream",
     "text": [
      "accuracy test: 0.8793718772305497\n",
      "accuracy train: 0.9118062088428974\n",
      "Balanced_accuracy test: 0.8958320229486594\n",
      "Balanced_accuracy train: 0.9253162816555051\n",
      "-------------------------\n"
     ]
    },
    {
     "data": {
      "text/plain": [
       "[0.8958020428876097,\n",
       " 0.9011986435789235,\n",
       " 0.8960375229833814,\n",
       " 0.8958320229486594]"
      ]
     },
     "metadata": {},
     "output_type": "display_data"
    },
    {
     "name": "stdout",
     "output_type": "stream",
     "text": [
      "-------------------------\n",
      "Promedio 0.8972175580996434\n"
     ]
    }
   ],
   "source": [
    "# Se realiza validación cruzada pasando cuantas particiones del conjuto de datos quiere entrenar\n",
    "kflods = 4\n",
    "auc_vec=validacion_cruzada(X_train,y_train, kflods, model_rlog_balanced)\n",
    "\n",
    "print('-------------------------')\n",
    "display(auc_vec)\n",
    "print('-------------------------')\n",
    "print('Promedio', sum(auc_vec)/len(auc_vec)) "
   ]
  },
  {
   "cell_type": "markdown",
   "metadata": {},
   "source": [
    "<b>Graficar Resultados</b>"
   ]
  },
  {
   "cell_type": "code",
   "execution_count": 40,
   "metadata": {},
   "outputs": [
    {
     "data": {
      "image/png": "[encoded data removed]",
      "text/plain": [
       "<Figure size 864x504 with 1 Axes>"
      ]
     },
     "metadata": {
      "needs_background": "light"
     },
     "output_type": "display_data"
    }
   ],
   "source": [
    "import pandas as pd\n",
    "import matplotlib.pyplot as plt\n",
    "import seaborn as sns\n",
    "\n",
    "data = []\n",
    "data.append(['Arboles de decisión','Test',0.67])\n",
    "data.append(['Arboles de decisión','Validación cruzada',0.66])\n",
    "data.append(['Arboles de decisión','Train',0.71])\n",
    "\n",
    "\n",
    "data.append(['RandomForest', 'Test',0.84])\n",
    "data.append(['RandomForest','Validación cruzada',0.83])\n",
    "data.append(['RandomForest','Train',0.95])\n",
    "\n",
    "\n",
    "data.append(['Regresión Logística','Test',0.9])\n",
    "data.append(['Regresión Logística','Validación cruzada',0.89])\n",
    "data.append(['Regresión Logística','Train',0.92])\n",
    "\n",
    "\n",
    "data.append(['Red Neuronal', 'Test',0.86])\n",
    "data.append(['Red Neuronal','Validación cruzada',0.84])\n",
    "data.append(['Red Neuronal','Train',0.89])\n",
    "\n",
    "\n",
    "data.append(['XGBoost','Test',0.90])\n",
    "data.append(['XGBoost','Validación cruzada',0.90])\n",
    "data.append(['XGBoost','Train',0.94])\n",
    "\n",
    "\n",
    "\n",
    "\n",
    "# crear DF\n",
    "df_results = pd.DataFrame(data, columns = ['Modelo', 'accuracy', 'Valor'])\n",
    "# Config de plot\n",
    "plt.figure(figsize=(12,7))\n",
    "plt.xlim(0,1)\n",
    "# Plot \n",
    "ax = sns.barplot(x=\"Valor\", y=\"Modelo\", hue=\"accuracy\", data=df_results)\n",
    "labels = ax.get_xticklabels()\n",
    "# labels in bars\n",
    "for p in ax.patches:  \n",
    "      ax.annotate('{:.2f}'.format(p.get_width()), #{:.2f}\n",
    "              (p.get_x() + p.get_width() + 0.02, p.get_y()+0.2))  \n",
    "plt.savefig('./Imagenes/clasificadoresA.png')"
   ]
  },
  {
   "cell_type": "code",
   "execution_count": 48,
   "metadata": {},
   "outputs": [
    {
     "data": {
      "image/png": "[encoded data removed]",
      "text/plain": [
       "<Figure size 864x504 with 1 Axes>"
      ]
     },
     "metadata": {
      "needs_background": "light"
     },
     "output_type": "display_data"
    }
   ],
   "source": [
    "import pandas as pd\n",
    "import matplotlib.pyplot as plt\n",
    "import seaborn as sns\n",
    "\n",
    "data = []\n",
    "data.append(['Arboles de decisión','Test',0.69])\n",
    "data.append(['Arboles de decisión','Validación cruzada',0.67])\n",
    "data.append(['Arboles de decisión','Train',0.74])\n",
    "\n",
    "data.append(['RandomForest', 'Test',0.84])\n",
    "data.append(['RandomForest','Validación cruzada',0.83])\n",
    "data.append(['RandomForest','Train',0.94])\n",
    "\n",
    "data.append(['Regresión Logística','Test',0.91])\n",
    "data.append(['Regresión Logística','Validación cruzada',0.9])\n",
    "data.append(['Regresión Logística','Train',0.93])\n",
    "\n",
    "data.append(['Red Neuronal', 'Test',0.87])\n",
    "data.append(['Red Neuronal','Validación cruzada',0.86])\n",
    "data.append(['Red Neuronal','Train',0.90])\n",
    "\n",
    "data.append(['XGBoost','Test',0.92])\n",
    "data.append(['XGBoost','Validación cruzada',0.91])\n",
    "data.append(['XGBoost','Train',0.96])\n",
    "\n",
    "\n",
    "\n",
    "# crear DF\n",
    "df_results = pd.DataFrame(data, columns = ['Modelo', 'F1', 'Valor'])\n",
    "# Config de plot\n",
    "plt.figure(figsize=(12,7))\n",
    "plt.xlim(0,1)\n",
    "# Plot \n",
    "ax = sns.barplot(x=\"Valor\", y=\"Modelo\", hue=\"F1\", data=df_results)\n",
    "labels = ax.get_xticklabels('{:20f}')\n",
    "# labels in bars\n",
    "for p in ax.patches:  \n",
    "      ax.annotate('{:.2f}'.format(p.get_width()), #{:.2f}\n",
    "              (p.get_x() + p.get_width() + 0.02, p.get_y()+0.2))  \n",
    "plt.savefig('./Imagenes/clasificadoresF1.png')"
   ]
  }
 ],
 "metadata": {
  "kernelspec": {
   "display_name": "Python 3",
   "language": "python",
   "name": "python3"
  },
  "language_info": {
   "codemirror_mode": {
    "name": "ipython",
    "version": 3
   },
   "file_extension": ".py",
   "mimetype": "text/x-python",
   "name": "python",
   "nbconvert_exporter": "python",
   "pygments_lexer": "ipython3",
   "version": "3.7.7"
  }
 },
 "nbformat": 4,
 "nbformat_minor": 4
}
